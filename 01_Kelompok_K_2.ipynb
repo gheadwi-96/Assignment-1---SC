{
  "nbformat": 4,
  "nbformat_minor": 0,
  "metadata": {
    "colab": {
      "provenance": []
    },
    "kernelspec": {
      "name": "python3",
      "display_name": "Python 3"
    },
    "language_info": {
      "name": "python"
    }
  },
  "cells": [
    {
      "cell_type": "markdown",
      "source": [
        "Paper Money: <br>\n",
        "1. Rp 100,000    \n",
        "2. Rp 50,000   \n",
        "3. Rp 20,000   \n",
        "4. Rp 10,000   \n",
        "5. Rp 5,000   \n",
        "6. Rp 2,000\n",
        "<br>\n",
        "<br>\n",
        "Coins: <br>\n",
        "1. Rp 1,000  \n",
        "2. Rp 500  \n",
        "3. Rp 200\n",
        "4. Rp 100  \n",
        "*To make it easier, we assume that all Rp. 1000 denominations are coins.\n",
        "\n",
        "There are circumstances where the bank must liquidate all customer savings in the form of money, if the customer requests it.\n",
        "And imagine this is happening right now in front of you, help the bank to calculate how many denominations of money are needed.\n",
        "\n",
        "Here is the rule:\n",
        "\n",
        "1. Bank must prioritize the largest denominations first to be issued.\n",
        "2. If there is a balance that cannot be cashed, the bank must inform it.\n",
        "3. Bank must calculate how many number of Paper Money needed and Coins needed.\n",
        "4. Banks can only disburse a maximum amount of 1 billion Rupiah\n",
        "\n",
        "\n",
        "\n",
        "Make a python code that receives an integer number of customer savings from 0 - 1 Billions.\n"
      ],
      "metadata": {
        "id": "v4yL2-lQ9B_E"
      }
    },
    {
      "cell_type": "code",
      "execution_count": null,
      "metadata": {
        "colab": {
          "base_uri": "https://localhost:8080/"
        },
        "id": "BadZYYvyin7Y",
        "outputId": "c7113551-dc16-4254-b51c-ccd95bcb164f"
      },
      "outputs": [
        {
          "output_type": "stream",
          "name": "stdout",
          "text": [
            "Enter an integer: 660765\n",
            "You entered: 660765\n"
          ]
        }
      ],
      "source": [
        "#Create command to get input from user, the input should be integer\n",
        "\n",
        "num = int(input(\"Enter an integer: \"))\n",
        "print(\"You entered:\", num)\n",
        "\n",
        "if num > 1000000000:\n",
        "  print(\"Maximum Saving is 1000000000\")\n",
        "if num <0:\n",
        "  print(\"Please input the correct number\")"
      ]
    },
    {
      "cell_type": "code",
      "source": [
        "\n",
        "#Create the code here\n",
        "nums=num\n",
        "counts={\n",
        "    \"Rp 100,000\":{\"value\":100000,\"count\":0,\"mat\":\"Paper Money\"},\n",
        "    \"Rp 50,000\":{\"value\":50000,\"count\":0,\"mat\":\"Paper Money\"},\n",
        "    \"RP 20,000\":{\"value\":20000,\"count\":0,\"mat\":\"Paper Money\"},\n",
        "    \"Rp 10,000\":{\"value\":10000,\"count\":0,\"mat\":\"Paper Money\"},\n",
        "    \"Rp 5,000\":{\"value\":5000,\"count\":0,\"mat\":\"Paper Money\"},\n",
        "    \"Rp 2,000\":{\"value\":2000,\"count\":0,\"mat\":\"Paper Money\"},\n",
        "    \"Rp 1,000\":{\"value\":1000,\"count\":0,\"mat\":\"Coins\"},\n",
        "    \"Rp 500\":{\"value\":500,\"count\":0,\"mat\":\"Coins\"},\n",
        "    \"Rp 200\":{\"value\":200,\"count\":0,\"mat\":\"Coins\"},\n",
        "    \"Rp 100\":{\"value\":100,\"count\":0,\"mat\":\"Coins\"},\n",
        "}\n",
        "\n",
        "mat={}\n",
        "for x in counts:\n",
        "  if counts[x]['value']<nums:\n",
        "    zzz=nums//counts[x]['value']\n",
        "    nums-=counts[x]['value']*zzz\n",
        "    counts[x]['count']=zzz\n",
        "    if (counts[x]['mat'] not in mat):\n",
        "      mat[counts[x]['mat']]=0\n",
        "    mat[counts[x]['mat']]+=zzz\n",
        "  print(\"amount of currency \"+x+\": \"+str(counts[x]['count']))\n",
        "\n",
        "\n",
        "print()\n",
        "for x in mat:\n",
        "  print(\"Total \"+x+\": \"+str(mat[x]))\n",
        "\n",
        "if nums>0:\n",
        "  print()\n",
        "  print(\"Cannot be cashed out: \"+str(nums))"
      ],
      "metadata": {
        "colab": {
          "base_uri": "https://localhost:8080/"
        },
        "id": "jC9mLViZi169",
        "outputId": "99ec9d09-ac02-4eb5-e579-754abe636697"
      },
      "execution_count": null,
      "outputs": [
        {
          "output_type": "stream",
          "name": "stdout",
          "text": [
            "amount of currency Rp 100,000: 6\n",
            "amount of currency Rp 50,000: 1\n",
            "amount of currency RP 20,000: 0\n",
            "amount of currency Rp 10,000: 1\n",
            "amount of currency Rp 5,000: 0\n",
            "amount of currency Rp 2,000: 0\n",
            "amount of currency Rp 1,000: 0\n",
            "amount of currency Rp 500: 1\n",
            "amount of currency Rp 200: 1\n",
            "amount of currency Rp 100: 0\n",
            "\n",
            "Total Paper Money: 8\n",
            "Total Coins: 2\n",
            "\n",
            "Cannot be cashed out: 65\n"
          ]
        }
      ]
    },
    {
      "cell_type": "code",
      "source": [],
      "metadata": {
        "id": "d-jU7PP5jIVV"
      },
      "execution_count": null,
      "outputs": []
    }
  ]
}